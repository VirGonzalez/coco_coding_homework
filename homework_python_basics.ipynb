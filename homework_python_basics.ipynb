{
 "cells": [
  {
   "cell_type": "code",
   "execution_count": null,
   "id": "08fb5b78",
   "metadata": {},
   "outputs": [],
   "source": [
    "import numpy as np"
   ]
  },
  {
   "cell_type": "markdown",
   "id": "bad21f56",
   "metadata": {},
   "source": [
    "Create a list with the names of every planet in the solar system (in order)"
   ]
  },
  {
   "cell_type": "code",
   "execution_count": 15,
   "id": "de2a9a2d",
   "metadata": {},
   "outputs": [],
   "source": [
    "planets = [\"Mercurio\", \"Venus\", \"Marte\", \"Tierra\", \"Jupiter\", \"Saturno\", \"Urano\", \"Neptuno\"]"
   ]
  },
  {
   "cell_type": "code",
   "execution_count": 16,
   "id": "556b4ccf",
   "metadata": {},
   "outputs": [
    {
     "name": "stdout",
     "output_type": "stream",
     "text": [
      "['Mercurio', 'Venus', 'Marte', 'Tierra', 'Jupiter', 'Saturno', 'Urano', 'Neptuno']\n"
     ]
    }
   ],
   "source": [
    "print(planets)"
   ]
  },
  {
   "cell_type": "code",
   "execution_count": 17,
   "id": "bf77f8ea",
   "metadata": {},
   "outputs": [
    {
     "data": {
      "text/plain": [
       "list"
      ]
     },
     "execution_count": 17,
     "metadata": {},
     "output_type": "execute_result"
    }
   ],
   "source": [
    "type(planets)"
   ]
  },
  {
   "cell_type": "markdown",
   "id": "79a41c1c",
   "metadata": {},
   "source": [
    "Have Python tell you how many planets there are by examining your list"
   ]
  },
  {
   "cell_type": "code",
   "execution_count": 18,
   "id": "6b8434b2",
   "metadata": {},
   "outputs": [
    {
     "name": "stdout",
     "output_type": "stream",
     "text": [
      "8\n"
     ]
    }
   ],
   "source": [
    "size = len(planets)\n",
    "print(size)"
   ]
  },
  {
   "cell_type": "markdown",
   "id": "03c57f23",
   "metadata": {},
   "source": [
    "Print the first four planets in the solar system (the rocky planets)"
   ]
  },
  {
   "cell_type": "code",
   "execution_count": 19,
   "id": "dbb0ae26",
   "metadata": {},
   "outputs": [
    {
     "name": "stdout",
     "output_type": "stream",
     "text": [
      "['Mercurio', 'Venus', 'Marte', 'Tierra']\n"
     ]
    }
   ],
   "source": [
    "print(planets[0:4])"
   ]
  },
  {
   "cell_type": "markdown",
   "id": "5cccfd27",
   "metadata": {},
   "source": [
    "Imprimir el nombre del planeta que tiene una s al final de su nombre"
   ]
  },
  {
   "cell_type": "code",
   "execution_count": 32,
   "id": "84d1a3ca",
   "metadata": {},
   "outputs": [
    {
     "name": "stdout",
     "output_type": "stream",
     "text": [
      "Letter: s\n",
      "['Mercurio', 'Venus', 'Marte', 'Tierra', 'Jupiter', 'Saturno', 'Urano', 'Neptuno']Venus\n",
      "Venus\n"
     ]
    }
   ],
   "source": [
    "letter = input(\"Letter: \")[0] # Limit to one character\n",
    "words = input(planets).split()\n",
    "for word in words:\n",
    "    if letter in word:\n",
    "        print(word, end=\"\")\n",
    "print() # Add newline"
   ]
  },
  {
   "cell_type": "markdown",
   "id": "30049f71",
   "metadata": {},
   "source": [
    "2° Task"
   ]
  },
  {
   "cell_type": "markdown",
   "id": "c526a600",
   "metadata": {},
   "source": [
    "Asignar el dato recibido a una variable."
   ]
  },
  {
   "cell_type": "code",
   "execution_count": 21,
   "id": "4ac9e018",
   "metadata": {},
   "outputs": [],
   "source": [
    "T = 30.3"
   ]
  },
  {
   "cell_type": "markdown",
   "id": "17bd1941",
   "metadata": {},
   "source": [
    "Aplicar la transformación de unidades usando esta variable.\n",
    "Save the data in Celsius in another variable."
   ]
  },
  {
   "cell_type": "code",
   "execution_count": 22,
   "id": "0653a255",
   "metadata": {},
   "outputs": [],
   "source": [
    "C = 5/9*(T-32)"
   ]
  },
  {
   "cell_type": "markdown",
   "id": "298b09fb",
   "metadata": {},
   "source": [
    "Use the print function to display both results.\n"
   ]
  },
  {
   "cell_type": "code",
   "execution_count": 23,
   "id": "d672e470",
   "metadata": {},
   "outputs": [
    {
     "name": "stdout",
     "output_type": "stream",
     "text": [
      "30.3\n"
     ]
    }
   ],
   "source": [
    "print(T)"
   ]
  },
  {
   "cell_type": "code",
   "execution_count": 24,
   "id": "9eaa9515",
   "metadata": {},
   "outputs": [
    {
     "name": "stdout",
     "output_type": "stream",
     "text": [
      "-0.9444444444444441\n"
     ]
    }
   ],
   "source": [
    "print(C)"
   ]
  },
  {
   "cell_type": "markdown",
   "id": "03d822e3",
   "metadata": {},
   "source": [
    "3° TASK"
   ]
  },
  {
   "cell_type": "code",
   "execution_count": 25,
   "id": "dfaff149",
   "metadata": {},
   "outputs": [],
   "source": [
    "array = np.array([1, 2, 3, 4, 5, 6, 7, 8, 9, 10, 11, 12, 13, 14, 15, 16])"
   ]
  },
  {
   "cell_type": "code",
   "execution_count": 26,
   "id": "8f2df0ec",
   "metadata": {},
   "outputs": [],
   "source": [
    "reshape = array.reshape(4,4)"
   ]
  },
  {
   "cell_type": "code",
   "execution_count": 27,
   "id": "865898df",
   "metadata": {},
   "outputs": [
    {
     "name": "stdout",
     "output_type": "stream",
     "text": [
      "[[ 1  2  3  4]\n",
      " [ 5  6  7  8]\n",
      " [ 9 10 11 12]\n",
      " [13 14 15 16]]\n"
     ]
    }
   ],
   "source": [
    "print(reshape)"
   ]
  },
  {
   "cell_type": "markdown",
   "id": "dce775fd",
   "metadata": {},
   "source": [
    "4° TASK"
   ]
  },
  {
   "cell_type": "markdown",
   "id": "5fac8ae1",
   "metadata": {},
   "source": [
    "Cree un array con los ángulos mencionados en grados."
   ]
  },
  {
   "cell_type": "code",
   "execution_count": 36,
   "id": "ad9308c2",
   "metadata": {},
   "outputs": [],
   "source": [
    "angulos = np.array([0,30,45,60,90])"
   ]
  },
  {
   "cell_type": "markdown",
   "id": "3040d006",
   "metadata": {},
   "source": [
    "Convierta los ángulos a radianes."
   ]
  },
  {
   "cell_type": "code",
   "execution_count": 41,
   "id": "37876f0e",
   "metadata": {},
   "outputs": [
    {
     "name": "stdout",
     "output_type": "stream",
     "text": [
      "1.5707963267948966\n"
     ]
    }
   ],
   "source": [
    "import math\n",
    "print(math.radians(angulos[1]))\n",
    "print(math.radians(angulos[2]))\n",
    "print(math.radians(angulos[3]))\n",
    "print(math.radians(angulos[4]))"
   ]
  },
  {
   "cell_type": "markdown",
   "id": "75c56e6e",
   "metadata": {},
   "source": [
    "5° Task"
   ]
  },
  {
   "cell_type": "markdown",
   "id": "e76a46e3",
   "metadata": {},
   "source": [
    "Now, read the numpy documentation to find a function to calculate  𝑑𝑑𝑥𝑦(𝑥𝑖)"
   ]
  },
  {
   "cell_type": "code",
   "execution_count": 44,
   "id": "7824c848",
   "metadata": {},
   "outputs": [],
   "source": [
    "np.gradient?"
   ]
  },
  {
   "cell_type": "code",
   "execution_count": null,
   "id": "a8862d26",
   "metadata": {},
   "outputs": [],
   "source": []
  }
 ],
 "metadata": {
  "kernelspec": {
   "display_name": "Python 3 (ipykernel)",
   "language": "python",
   "name": "python3"
  },
  "language_info": {
   "codemirror_mode": {
    "name": "ipython",
    "version": 3
   },
   "file_extension": ".py",
   "mimetype": "text/x-python",
   "name": "python",
   "nbconvert_exporter": "python",
   "pygments_lexer": "ipython3",
   "version": "3.9.13"
  }
 },
 "nbformat": 4,
 "nbformat_minor": 5
}
