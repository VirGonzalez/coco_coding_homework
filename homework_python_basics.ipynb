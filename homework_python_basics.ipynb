{
 "cells": [
  {
   "cell_type": "code",
   "execution_count": 2,
   "id": "08fb5b78",
   "metadata": {},
   "outputs": [],
   "source": [
    "import numpy as np"
   ]
  },
  {
   "cell_type": "markdown",
   "id": "bad21f56",
   "metadata": {},
   "source": [
    "Create a list with the names of every planet in the solar system (in order)"
   ]
  },
  {
   "cell_type": "code",
   "execution_count": 9,
   "id": "de2a9a2d",
   "metadata": {},
   "outputs": [],
   "source": [
    "planets = [\"Mercurio\", \"Venus\", \"Marte\", \"Tierra\", \"Jupiter\", \"Saturno\", \"Urano\", \"Neptuno\"]"
   ]
  },
  {
   "cell_type": "code",
   "execution_count": 10,
   "id": "556b4ccf",
   "metadata": {},
   "outputs": [
    {
     "name": "stdout",
     "output_type": "stream",
     "text": [
      "['Mercurio', 'Venus', 'Marte', 'Tierra', 'Jupiter', 'Saturno', 'Urano', 'Neptuno']\n"
     ]
    }
   ],
   "source": [
    "print(planets)"
   ]
  },
  {
   "cell_type": "code",
   "execution_count": 11,
   "id": "bf77f8ea",
   "metadata": {},
   "outputs": [
    {
     "data": {
      "text/plain": [
       "list"
      ]
     },
     "execution_count": 11,
     "metadata": {},
     "output_type": "execute_result"
    }
   ],
   "source": [
    "type(planets)"
   ]
  },
  {
   "cell_type": "markdown",
   "id": "79a41c1c",
   "metadata": {},
   "source": [
    "Have Python tell you how many planets there are by examining your list"
   ]
  },
  {
   "cell_type": "code",
   "execution_count": 12,
   "id": "6b8434b2",
   "metadata": {},
   "outputs": [
    {
     "name": "stdout",
     "output_type": "stream",
     "text": [
      "8\n"
     ]
    }
   ],
   "source": [
    "size = len(planets)\n",
    "print(size)"
   ]
  },
  {
   "cell_type": "markdown",
   "id": "03c57f23",
   "metadata": {},
   "source": [
    "Print the first four planets in the solar system (the rocky planets)"
   ]
  },
  {
   "cell_type": "code",
   "execution_count": 13,
   "id": "dbb0ae26",
   "metadata": {},
   "outputs": [
    {
     "name": "stdout",
     "output_type": "stream",
     "text": [
      "['Mercurio', 'Venus', 'Marte', 'Tierra']\n"
     ]
    }
   ],
   "source": [
    "print(planets[0:4])"
   ]
  },
  {
   "cell_type": "markdown",
   "id": "5cccfd27",
   "metadata": {},
   "source": [
    "Imprimir el nombre del planeta que tiene una s al final de su nombre"
   ]
  },
  {
   "cell_type": "code",
   "execution_count": 14,
   "id": "84d1a3ca",
   "metadata": {},
   "outputs": [
    {
     "ename": "IndexError",
     "evalue": "string index out of range",
     "output_type": "error",
     "traceback": [
      "\u001b[1;31m---------------------------------------------------------------------------\u001b[0m",
      "\u001b[1;31mIndexError\u001b[0m                                Traceback (most recent call last)",
      "\u001b[1;32m~\\AppData\\Local\\Temp\\ipykernel_20256\\17706635.py\u001b[0m in \u001b[0;36m<module>\u001b[1;34m\u001b[0m\n\u001b[1;32m----> 1\u001b[1;33m \u001b[0mletter\u001b[0m \u001b[1;33m=\u001b[0m \u001b[0minput\u001b[0m\u001b[1;33m(\u001b[0m\u001b[1;34m\"Letter: \"\u001b[0m\u001b[1;33m)\u001b[0m\u001b[1;33m[\u001b[0m\u001b[1;36m0\u001b[0m\u001b[1;33m]\u001b[0m \u001b[1;31m# Limit to one character\u001b[0m\u001b[1;33m\u001b[0m\u001b[1;33m\u001b[0m\u001b[0m\n\u001b[0m\u001b[0;32m      2\u001b[0m \u001b[0mwords\u001b[0m \u001b[1;33m=\u001b[0m \u001b[0minput\u001b[0m\u001b[1;33m(\u001b[0m\u001b[0mplanets\u001b[0m\u001b[1;33m)\u001b[0m\u001b[1;33m.\u001b[0m\u001b[0msplit\u001b[0m\u001b[1;33m(\u001b[0m\u001b[1;33m)\u001b[0m\u001b[1;33m\u001b[0m\u001b[1;33m\u001b[0m\u001b[0m\n\u001b[0;32m      3\u001b[0m \u001b[1;32mfor\u001b[0m \u001b[0mword\u001b[0m \u001b[1;32min\u001b[0m \u001b[0mwords\u001b[0m\u001b[1;33m:\u001b[0m\u001b[1;33m\u001b[0m\u001b[1;33m\u001b[0m\u001b[0m\n\u001b[0;32m      4\u001b[0m     \u001b[1;32mif\u001b[0m \u001b[0mletter\u001b[0m \u001b[1;32min\u001b[0m \u001b[0mword\u001b[0m\u001b[1;33m:\u001b[0m\u001b[1;33m\u001b[0m\u001b[1;33m\u001b[0m\u001b[0m\n\u001b[0;32m      5\u001b[0m         \u001b[0mprint\u001b[0m\u001b[1;33m(\u001b[0m\u001b[0mword\u001b[0m\u001b[1;33m,\u001b[0m \u001b[0mend\u001b[0m\u001b[1;33m=\u001b[0m\u001b[1;34m\"\"\u001b[0m\u001b[1;33m)\u001b[0m\u001b[1;33m\u001b[0m\u001b[1;33m\u001b[0m\u001b[0m\n",
      "\u001b[1;31mIndexError\u001b[0m: string index out of range"
     ]
    }
   ],
   "source": [
    "letter = input(\"Letter: \")[0] # Limit to one character\n",
    "words = input(planets).split()\n",
    "for word in words:\n",
    "    if letter in word:\n",
    "        print(word, end=\"\")\n",
    "print() # Add newline"
   ]
  },
  {
   "attachments": {},
   "cell_type": "markdown",
   "id": "3f45ae5c",
   "metadata": {},
   "source": [
    "Correccion: "
   ]
  },
  {
   "cell_type": "code",
   "execution_count": 15,
   "id": "b75fc4fe",
   "metadata": {},
   "outputs": [
    {
     "name": "stdout",
     "output_type": "stream",
     "text": [
      "Venus\n"
     ]
    }
   ],
   "source": [
    "letter = \"s\"\n",
    "for planet in planets: \n",
    "    if letter in planet:\n",
    "        print(planet)"
   ]
  },
  {
   "cell_type": "markdown",
   "id": "30049f71",
   "metadata": {},
   "source": [
    "2° Task"
   ]
  },
  {
   "cell_type": "markdown",
   "id": "c526a600",
   "metadata": {},
   "source": [
    "Asignar el dato recibido a una variable."
   ]
  },
  {
   "cell_type": "code",
   "execution_count": 16,
   "id": "4ac9e018",
   "metadata": {},
   "outputs": [],
   "source": [
    "T = 30.3"
   ]
  },
  {
   "cell_type": "markdown",
   "id": "17bd1941",
   "metadata": {},
   "source": [
    "Aplicar la transformación de unidades usando esta variable.\n",
    "Save the data in Celsius in another variable."
   ]
  },
  {
   "cell_type": "code",
   "execution_count": 17,
   "id": "0653a255",
   "metadata": {},
   "outputs": [],
   "source": [
    "C = 5/9*(T-32)"
   ]
  },
  {
   "cell_type": "markdown",
   "id": "298b09fb",
   "metadata": {},
   "source": [
    "Use the print function to display both results.\n"
   ]
  },
  {
   "cell_type": "code",
   "execution_count": 18,
   "id": "d672e470",
   "metadata": {},
   "outputs": [
    {
     "name": "stdout",
     "output_type": "stream",
     "text": [
      "30.3\n"
     ]
    }
   ],
   "source": [
    "print(T)"
   ]
  },
  {
   "cell_type": "code",
   "execution_count": 19,
   "id": "9eaa9515",
   "metadata": {},
   "outputs": [
    {
     "name": "stdout",
     "output_type": "stream",
     "text": [
      "-0.9444444444444441\n"
     ]
    }
   ],
   "source": [
    "print(C)"
   ]
  },
  {
   "cell_type": "markdown",
   "id": "03d822e3",
   "metadata": {},
   "source": [
    "3° TASK"
   ]
  },
  {
   "cell_type": "code",
   "execution_count": 20,
   "id": "dfaff149",
   "metadata": {},
   "outputs": [],
   "source": [
    "array = np.array([1, 2, 3, 4, 5, 6, 7, 8, 9, 10, 11, 12, 13, 14, 15, 16])"
   ]
  },
  {
   "cell_type": "code",
   "execution_count": null,
   "id": "8f2df0ec",
   "metadata": {},
   "outputs": [],
   "source": [
    "reshape = array.reshape(4,4)"
   ]
  },
  {
   "cell_type": "code",
   "execution_count": null,
   "id": "865898df",
   "metadata": {},
   "outputs": [
    {
     "name": "stdout",
     "output_type": "stream",
     "text": [
      "[[ 1  2  3  4]\n",
      " [ 5  6  7  8]\n",
      " [ 9 10 11 12]\n",
      " [13 14 15 16]]\n"
     ]
    }
   ],
   "source": [
    "print(reshape)"
   ]
  },
  {
   "cell_type": "markdown",
   "id": "dce775fd",
   "metadata": {},
   "source": [
    "4° TASK"
   ]
  },
  {
   "cell_type": "markdown",
   "id": "5fac8ae1",
   "metadata": {},
   "source": [
    "Cree un array con los ángulos mencionados en grados."
   ]
  },
  {
   "cell_type": "code",
   "execution_count": null,
   "id": "ad9308c2",
   "metadata": {},
   "outputs": [],
   "source": [
    "angulos = np.array([0,30,45,60,90])"
   ]
  },
  {
   "cell_type": "markdown",
   "id": "3040d006",
   "metadata": {},
   "source": [
    "Convierta los ángulos a radianes."
   ]
  },
  {
   "cell_type": "code",
   "execution_count": null,
   "id": "37876f0e",
   "metadata": {},
   "outputs": [
    {
     "name": "stdout",
     "output_type": "stream",
     "text": [
      "1.5707963267948966\n"
     ]
    }
   ],
   "source": [
    "import math\n",
    "print(math.radians(angulos[1]))\n",
    "print(math.radians(angulos[2]))\n",
    "print(math.radians(angulos[3]))\n",
    "print(math.radians(angulos[4]))"
   ]
  },
  {
   "attachments": {},
   "cell_type": "markdown",
   "id": "27dc085f",
   "metadata": {},
   "source": [
    "Correccion de tutora: "
   ]
  },
  {
   "cell_type": "code",
   "execution_count": null,
   "id": "4cf01c00",
   "metadata": {},
   "outputs": [],
   "source": [
    "angulos = np.array([0,30,45,60,90])\n",
    "angulos_rad = np.deg2rad(angulos)"
   ]
  },
  {
   "cell_type": "markdown",
   "id": "75c56e6e",
   "metadata": {},
   "source": [
    "5° Task"
   ]
  },
  {
   "cell_type": "markdown",
   "id": "e76a46e3",
   "metadata": {},
   "source": [
    "Now, read the numpy documentation to find a function to calculate  𝑑𝑑𝑥𝑦(𝑥𝑖)"
   ]
  },
  {
   "cell_type": "code",
   "execution_count": null,
   "id": "7824c848",
   "metadata": {},
   "outputs": [],
   "source": [
    "np.gradient?"
   ]
  },
  {
   "cell_type": "code",
   "execution_count": null,
   "id": "a8862d26",
   "metadata": {},
   "outputs": [],
   "source": []
  }
 ],
 "metadata": {
  "kernelspec": {
   "display_name": "base",
   "language": "python",
   "name": "python3"
  },
  "language_info": {
   "codemirror_mode": {
    "name": "ipython",
    "version": 3
   },
   "file_extension": ".py",
   "mimetype": "text/x-python",
   "name": "python",
   "nbconvert_exporter": "python",
   "pygments_lexer": "ipython3",
   "version": "3.9.13"
  },
  "vscode": {
   "interpreter": {
    "hash": "2137ae33ebc845f794c5b19c60d45db1cb3eff1438ffe47e3714864beb8580ba"
   }
  }
 },
 "nbformat": 4,
 "nbformat_minor": 5
}
