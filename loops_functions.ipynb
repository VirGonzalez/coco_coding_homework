{
 "cells": [
  {
   "cell_type": "markdown",
   "id": "1e8b304f",
   "metadata": {},
   "source": [
    "Convierte la siguiente lista de temperaturas en Fahrenheit a grados Centígrados usando un for loop. temperaturas_f = [30.2, 41, 115.7, 77, 130.46, 59, 86, 63.5, 23]\n",
    "\n",
    "Ayuda: Quizás sea útil crear una lista vacía donde guardemos los datos de temperatura en Celsius e ir agregándole valores con el método append\n",
    "\n",
    "Utiliza for loops y condicionales para generar una alerta para temperaturas:\n",
    "\n",
    "bajas temperaturas (menores o iguales a 0°C)\n",
    "altas temperaturas (mayores o iguales a 35°C)\n",
    "temperaturas normales (entre 0°C y 35°C)\n",
    "Genera dos funciones:\n",
    "\n",
    "una función que toma un único valor de temperatura en Fahrenheit y devuelve el mismo valores pero en Celsius.\n",
    "una función que toma un único valor de temperatura e imprime su correspondiente alerta de temperatura\n",
    "Utiliza un for loop que itere sobre cada valor de temperatura en Fahrenheit: convierte el valor a Celsius e imprime la alerta. Utiliza las dos funciones que definiste para ello.\n",
    "\n",
    "No te olvides de documentar tus funciones!"
   ]
  },
  {
   "cell_type": "code",
   "execution_count": 12,
   "id": "6085be01",
   "metadata": {},
   "outputs": [],
   "source": [
    "temp_f = [30.2, 41, 115.7, 77, 130.46, 59, 86, 63.5, 23]"
   ]
  },
  {
   "cell_type": "code",
   "execution_count": 13,
   "id": "3494a5b5",
   "metadata": {},
   "outputs": [],
   "source": [
    "temp_c = []"
   ]
  },
  {
   "cell_type": "code",
   "execution_count": 15,
   "id": "54f8e451",
   "metadata": {},
   "outputs": [],
   "source": [
    "import numpy as np\n",
    "\n",
    "for i in temp_f :\n",
    "    celsius = np.round (((i - 32)*5)/9)\n",
    "    temp_c.append(celsius)"
   ]
  },
  {
   "cell_type": "code",
   "execution_count": 16,
   "id": "8d51afa1",
   "metadata": {},
   "outputs": [
    {
     "data": {
      "text/plain": [
       "[-1.0, 5.0, 46.0, 25.0, 55.0, 15.0, 30.0, 18.0, -5.0]"
      ]
     },
     "execution_count": 16,
     "metadata": {},
     "output_type": "execute_result"
    }
   ],
   "source": [
    "temp_c"
   ]
  },
  {
   "cell_type": "code",
   "execution_count": 25,
   "id": "1f7b3323",
   "metadata": {},
   "outputs": [
    {
     "name": "stdout",
     "output_type": "stream",
     "text": [
      "-1.0 Alerta es una baja temperatura!\n",
      "5.0 Las temperaturas son normales\n",
      "46.0 Alerta es una alta temperatura!\n",
      "25.0 Las temperaturas son normales\n",
      "55.0 Alerta es una alta temperatura!\n",
      "15.0 Las temperaturas son normales\n",
      "30.0 Las temperaturas son normales\n",
      "18.0 Las temperaturas son normales\n",
      "-5.0 Alerta es una baja temperatura!\n"
     ]
    }
   ],
   "source": [
    "for i in temp_c:\n",
    "    if i < 0 :\n",
    "        print(i,'Alerta es una baja temperatura!')\n",
    "    elif i > 0 and i < 35:\n",
    "        print(i,'Las temperaturas son normales')\n",
    "    elif i > 35 : \n",
    "        print(i, 'Alerta es una alta temperatura!')"
   ]
  },
  {
   "cell_type": "code",
   "execution_count": 26,
   "id": "44015a1d",
   "metadata": {},
   "outputs": [],
   "source": [
    "def far2cel(f):\n",
    "    \n",
    "    '''\n",
    "    Convertir un valor de temperatura de farenheit a celsius\n",
    "    -------------\n",
    "    \n",
    "    Argumentos:\n",
    "        f = int o float \n",
    "        El cual es una temperatura en farenheit\n",
    "    \n",
    "    Return:\n",
    "    int o float \n",
    "    el valor de temperatura en celsius\n",
    "    '''\n",
    "    \n",
    "    C = (f-32)*5/9\n",
    "    return C"
   ]
  },
  {
   "cell_type": "code",
   "execution_count": 27,
   "id": "98371fab",
   "metadata": {},
   "outputs": [
    {
     "data": {
      "text/plain": [
       "0.0"
      ]
     },
     "execution_count": 27,
     "metadata": {},
     "output_type": "execute_result"
    }
   ],
   "source": [
    "far2cel(32)"
   ]
  },
  {
   "cell_type": "code",
   "execution_count": 33,
   "id": "45dbe1e4",
   "metadata": {},
   "outputs": [],
   "source": [
    "def alerta(i):\n",
    "    \n",
    "    '''\n",
    "    una función que toma un único valor de temperatura e imprime su correspondiente alerta de temperatura\n",
    "    \n",
    "    -----------\n",
    "    Argumentos:\n",
    "    i = int o float\n",
    "    El cual sera una temperatura\n",
    "    \n",
    "    Devuelve una alerta si es baja/normal o alta\n",
    "    \n",
    "    '''\n",
    "    if i < 0 :\n",
    "        print(i,':','¡Alerta es una baja temperatura!')\n",
    "    elif i > 0 and i < 35:\n",
    "        print(i,':','Las temperaturas son normales')\n",
    "    elif i > 35 : \n",
    "        print(i,':', '¡Alerta es una alta temperatura!')\n",
    "    "
   ]
  },
  {
   "cell_type": "code",
   "execution_count": 35,
   "id": "668bfc95",
   "metadata": {},
   "outputs": [
    {
     "name": "stdout",
     "output_type": "stream",
     "text": [
      "20 : Las temperaturas son normales\n",
      "-2 : ¡Alerta es una baja temperatura!\n",
      "100 : ¡Alerta es una alta temperatura!\n"
     ]
    }
   ],
   "source": [
    "alerta(20)\n",
    "alerta(-2)\n",
    "alerta(100)"
   ]
  },
  {
   "cell_type": "code",
   "execution_count": 38,
   "id": "c78d55a6",
   "metadata": {},
   "outputs": [],
   "source": [
    "def alerta_c(temp):\n",
    "    \n",
    "    ''''\n",
    "    Utiliza un for loop que itere sobre cada valor de temperatura en Fahrenheit: convierte el valor a Celsius e imprime la alerta. \n",
    "    \n",
    "    ----------\n",
    "    \n",
    "    Argumentos:\n",
    "    \n",
    "    t = lista con temperaturas en farenheit\n",
    "    \n",
    "    Itera sobre cada valor de esa lista, el cual sera transformado a celsius y luego pasa por un filtro de alertas\n",
    "    \n",
    "    Return = \n",
    "    Temperatura en celsius + alerta\n",
    "    \n",
    "    '''\n",
    "    for t in temp:\n",
    "        a_temp = alerta(far2cel(t))\n",
    "    return a_temp"
   ]
  },
  {
   "cell_type": "code",
   "execution_count": 39,
   "id": "25402623",
   "metadata": {},
   "outputs": [
    {
     "name": "stdout",
     "output_type": "stream",
     "text": [
      "-1.0000000000000004 : ¡Alerta es una baja temperatura!\n",
      "5.0 : Las temperaturas son normales\n",
      "46.5 : ¡Alerta es una alta temperatura!\n",
      "25.0 : Las temperaturas son normales\n",
      "54.70000000000001 : ¡Alerta es una alta temperatura!\n",
      "15.0 : Las temperaturas son normales\n",
      "30.0 : Las temperaturas son normales\n",
      "17.5 : Las temperaturas son normales\n",
      "-5.0 : ¡Alerta es una baja temperatura!\n"
     ]
    }
   ],
   "source": [
    "alerta_c(temp_f)"
   ]
  },
  {
   "cell_type": "markdown",
   "id": "037715f4",
   "metadata": {},
   "source": [
    "2° Task\n",
    "Tu aeropuerto local es famoso por sus malas condiciones climáticas. Una operadora de la torre necesita estar monitoreando constamente las condiciones climáticas, especialmente la velocidad del viento y la visiblidad.\n",
    "\n",
    "Si la velocidad del viento es mayor a 12 nudos, entonces la pista debe cerrarse y ningúnx piloto puede despegar.\n",
    "Si la visibilidad es menor que 100 metros, tambien deben cerrar la pista.\n",
    "Si la velocidad del viento está entre 8 nudos y 12 nudos, deben advertir a lxs pilotos sobre vientos fuertes.\n",
    "Si la visiblidad está entre 100 metros y 500 metros, deben advertir a lxs pilotos sobre bajas condiciones de visibilidad.\n",
    "En cualquier otra situacion, las condiciones climáticas se consideran buenas y por ende la pista se encuentra abierta y ninguna advertencia debe ser emitida.\n",
    "El aeropuerto quiere automatizar este sistema de alertas así la operadora puede tener más tiempo para asistir a lxs pilotos.\n",
    "\n",
    "Escribe una función que toma la velocidad del viento en nudos y la visibilidad en metros. La función debe alertar de vientos fuertes o condiciones de bajas visiblidad, o incluso cerrar la pista si las condiciones climáticas son los suficientemente malas.\n",
    "\n",
    "Como condición, la función no debe poseer prints, en cambio, debe devolver strings como \"buen tiempo\", \"baja visibilidad\" o \"mal tiempo: cierre la pista\". Se creativx!\n",
    "\n",
    "Sientete libre de testear tu función con algunas combinaciones de velocidad del viento y visibilidad.\n",
    "\n",
    "Ayuda:\n",
    "Explora cómo puedes utilizar los operadores and y or en tus sentencias if y elif."
   ]
  },
  {
   "cell_type": "code",
   "execution_count": 2,
   "id": "767a5bd4",
   "metadata": {},
   "outputs": [],
   "source": [
    "def alerta_aeropuerto(v, vi):\n",
    "    \n",
    "    '''' \n",
    "    Esta funcion toma la velocidad del viento en nudos y la visibilidad en metros. La función debe alertar de vientos fuertes \n",
    "    o condiciones de bajas visiblidad, \n",
    "    o incluso cerrar la pista si las condiciones climáticas son los suficientemente malas.\n",
    "    \n",
    "    ---------------\n",
    "    \n",
    "    velocidad (v) = int o float en metros\n",
    "    visibilidad (vi) = int o float en metros\n",
    "    \n",
    "    return = sentencia que indique si es buen tiempo/ baja visibilidad/ mal tiempo de acuerdo a los valores ingresados \n",
    "    \n",
    "    '''\n",
    "    if v < 12 or vi < 100: \n",
    "        return 'mal tiempo: cerrar la pista'\n",
    "    elif   v > 8 and v < 12:\n",
    "        return 'tiempos fuertes!'\n",
    "    elif vi > 100 and vi < 500:\n",
    "        return 'baja visibilidad'\n",
    "    else:\n",
    "        return 'buen tiempo'"
   ]
  },
  {
   "cell_type": "code",
   "execution_count": 3,
   "id": "8aa339bd",
   "metadata": {},
   "outputs": [
    {
     "data": {
      "text/plain": [
       "'mal tiempo: cerrar la pista'"
      ]
     },
     "execution_count": 3,
     "metadata": {},
     "output_type": "execute_result"
    }
   ],
   "source": [
    "alerta_aeropuerto(9,250)"
   ]
  },
  {
   "cell_type": "markdown",
   "id": "b750f497",
   "metadata": {},
   "source": [
    "3° Task\n",
    "\n",
    "En el notebook anterior graficamos repetidas veces una función gaussiana centrada en cero modificando el parámetro sigma:\n",
    "Esta tarea podría haber sido más fácil si hubieramos encapsulado la función gaussiana dentro de una función de Python. Además, definir funciones para realizar cálculos nos ayuda a prevenir errores. Especialmente si creamos una función con buena documentación que podemos usar en el futuro. Estos hábitos (entre otros) forman parte de lo que se conoce como buenas prácticas para el desarrollo de software.\n",
    "\n",
    "Escribir una función que evalúe la función Gaussiana y devuelva su valor.\n",
    "Dicha función debe poder admitir un valor de \n",
    " como argumento, asumiéndolo por defecto igual a 1.\n",
    "Añadir una documentación detallada de la función gaussiana. ¿Qué hace la función? ¿Qué argumentos admite? ¿Qué valores devuelve?\n",
    "Seleccionar al menos tres valores diferentes de \n",
    " y graficar las gaussianas usando un for loop."
   ]
  },
  {
   "cell_type": "code",
   "execution_count": 8,
   "id": "a8fece19",
   "metadata": {},
   "outputs": [],
   "source": [
    "import numpy as np\n",
    "def gauss(sigma, x):\n",
    "    \n",
    "    '''\n",
    "    \n",
    "    La función gaussiana centrada en cero puede ser escrita como:\n",
    "    f(x) = a e^{- { \\frac{(x-b)^2 }{ 2 c^2} } }\n",
    "    \n",
    "    donde a, b y c son constantes reales (c > –1). El parámetro a es el valor del punto más alto de la campana, \n",
    "    b es la posición del centro de la campana y c (la desviación estándar, a veces llamada media cuadrática \n",
    "    o valor cuadrático medio) controla el ancho de la campana.\n",
    "    Las funciones gaussianas se utilizan frecuentemente en estadística. En el caso de que a sea igual a, \n",
    "    la función de densidad de una variable aleatoria corresponde con la distribución normal de media μ = b y varianza σ2 = c2.\n",
    "    \n",
    "    Esta funcion admitira las distintas variantes de sigma (ancho de la campana o c), y asumira que la media es cero (b = 0)\n",
    "    . Es decir la campana se hallara centrada en cero. \n",
    "    \n",
    "    Devolvera los distintos valores de f(x) dependiendo de c (desviacion estandar o media cuadratica)\n",
    "    \n",
    "    x = int o float, lista que corresponde a los posibles valores de x\n",
    "    \n",
    "    sigma = int o float que corresponde a la desviacion estandar\n",
    "    \n",
    "    ------------\n",
    "    \n",
    "    return f(x) y una grafica\n",
    "    \n",
    "    '''\n",
    "    \n",
    "    f = 1/(sigma * np.sqrt(2 * np.pi)) *np.exp(-0.5)**(x / sigma)**2\n",
    "    \n",
    "    return f"
   ]
  },
  {
   "cell_type": "code",
   "execution_count": 13,
   "id": "e07deccd",
   "metadata": {},
   "outputs": [
    {
     "data": {
      "text/plain": [
       "array([1.21517657e-08, 2.49631571e-08, 5.05334343e-08, 1.00803892e-07,\n",
       "       1.98150406e-07, 3.83823723e-07, 7.32635303e-07, 1.37804390e-06,\n",
       "       2.55421495e-06, 4.66520804e-06, 8.39660587e-06, 1.48920917e-05,\n",
       "       2.60271622e-05, 4.48246715e-05, 7.60723081e-05, 1.27219959e-04,\n",
       "       2.09653971e-04, 3.40463151e-04, 5.44824109e-04, 8.59135572e-04,\n",
       "       1.33501537e-03, 2.04423120e-03, 3.08455799e-03, 4.58643294e-03,\n",
       "       6.72010932e-03, 9.70279395e-03, 1.38050016e-02, 1.93550944e-02,\n",
       "       2.67407330e-02, 3.64057937e-02, 4.88412624e-02, 6.45687589e-02,\n",
       "       8.41157221e-02, 1.07981933e-01, 1.36597955e-01, 1.70277193e-01,\n",
       "       2.09164485e-01, 2.53185360e-01, 3.02001024e-01, 3.54974718e-01,\n",
       "       4.11155034e-01, 4.69281011e-01, 5.27812330e-01, 5.84985719e-01,\n",
       "       6.38896011e-01, 6.87597471e-01, 7.29218279e-01, 7.62079015e-01,\n",
       "       7.84804781e-01, 7.96420553e-01, 7.96420553e-01, 7.84804781e-01,\n",
       "       7.62079015e-01, 7.29218279e-01, 6.87597471e-01, 6.38896011e-01,\n",
       "       5.84985719e-01, 5.27812330e-01, 4.69281011e-01, 4.11155034e-01,\n",
       "       3.54974718e-01, 3.02001024e-01, 2.53185360e-01, 2.09164485e-01,\n",
       "       1.70277193e-01, 1.36597955e-01, 1.07981933e-01, 8.41157221e-02,\n",
       "       6.45687589e-02, 4.88412624e-02, 3.64057937e-02, 2.67407330e-02,\n",
       "       1.93550944e-02, 1.38050016e-02, 9.70279395e-03, 6.72010932e-03,\n",
       "       4.58643294e-03, 3.08455799e-03, 2.04423120e-03, 1.33501537e-03,\n",
       "       8.59135572e-04, 5.44824109e-04, 3.40463151e-04, 2.09653971e-04,\n",
       "       1.27219959e-04, 7.60723081e-05, 4.48246715e-05, 2.60271622e-05,\n",
       "       1.48920917e-05, 8.39660587e-06, 4.66520804e-06, 2.55421495e-06,\n",
       "       1.37804390e-06, 7.32635303e-07, 3.83823723e-07, 1.98150406e-07,\n",
       "       1.00803892e-07, 5.05334343e-08, 2.49631571e-08, 1.21517657e-08])"
      ]
     },
     "execution_count": 13,
     "metadata": {},
     "output_type": "execute_result"
    }
   ],
   "source": [
    "x = np.linspace(-3,3,100)\n",
    "sigma = 0.5\n",
    "\n",
    "gauss(sigma,x)"
   ]
  },
  {
   "cell_type": "code",
   "execution_count": 15,
   "id": "e6aa8a83",
   "metadata": {},
   "outputs": [
    {
     "data": {
      "text/plain": [
       "[<matplotlib.lines.Line2D at 0x1b194056e80>]"
      ]
     },
     "execution_count": 15,
     "metadata": {},
     "output_type": "execute_result"
    },
    {
     "data": {
      "image/png": "[encoded data removed]",
      "text/plain": [
       "<Figure size 640x480 with 1 Axes>"
      ]
     },
     "metadata": {},
     "output_type": "display_data"
    }
   ],
   "source": [
    "from matplotlib import pyplot as plt\n",
    "\n",
    "plt.plot(x, 1/(sigma * np.sqrt(2 * np.pi)) *np.exp(-0.5)**(x / sigma)**2 ,linewidth=2, linestyle=\"--\", label=\" sigma = 0.5\")"
   ]
  },
  {
   "cell_type": "markdown",
   "id": "ae95b249",
   "metadata": {},
   "source": [
    "Bonus track\n",
    "\n",
    "Generalice la función anterior para que admita un argumento adicional mu, con valor por defecto igual a 0.\n",
    "Actualice la documentación de la función para el nuevo valor.\n",
    "Seleccione al menos tres valores diferentes de \n",
    " y grafique las gaussianas para un mismo valor de sigma\n",
    "."
   ]
  }
 ],
 "metadata": {
  "kernelspec": {
   "display_name": "Python 3 (ipykernel)",
   "language": "python",
   "name": "python3"
  },
  "language_info": {
   "codemirror_mode": {
    "name": "ipython",
    "version": 3
   },
   "file_extension": ".py",
   "mimetype": "text/x-python",
   "name": "python",
   "nbconvert_exporter": "python",
   "pygments_lexer": "ipython3",
   "version": "3.9.13"
  }
 },
 "nbformat": 4,
 "nbformat_minor": 5
}
